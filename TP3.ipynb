{
 "cells": [
  {
   "cell_type": "code",
   "execution_count": null,
   "id": "67891154-1767-4af3-ad79-726ce263f165",
   "metadata": {},
   "outputs": [],
   "source": [
    "1) Qu'est ce qu'un service web?\n",
    "un service web est une platforme permettant à différente application écirtes daans différents languages de communiquer entre elles \n",
    "\n",
    "2) Une API REST, qu'est-ce que c'est ?\n",
    "un style architectural qui permet aux logiciels de communiquer entre eux sur un réseau. Le plus souvent l'API REST  est utilisent  pour créer des services web. les API REST en utilisant le protocole HTTP permmetent aux logiciles de communiquers entre eux même s'il utilisent des sustèmes d'exploitation diffèrents.\n",
    "\n",
    "3)Qu'est ce qu'une FastAPI?\n",
    "FastAPI est un framework web python. ce framework permet de créer des API très rapidement.\n",
    "FastAPI à de nombreux avantages il est facile à apprendre, très rapide par rapport à Django ou NodeJs, créer des API 2 à 3 fois plus rapidement."
   ]
  }
 ],
 "metadata": {
  "kernelspec": {
   "display_name": "Python 3 (ipykernel)",
   "language": "python",
   "name": "python3"
  },
  "language_info": {
   "codemirror_mode": {
    "name": "ipython",
    "version": 3
   },
   "file_extension": ".py",
   "mimetype": "text/x-python",
   "name": "python",
   "nbconvert_exporter": "python",
   "pygments_lexer": "ipython3",
   "version": "3.9.7"
  }
 },
 "nbformat": 4,
 "nbformat_minor": 5
}
